{
 "cells": [
  {
   "attachments": {},
   "cell_type": "markdown",
   "metadata": {},
   "source": [
    "#### Climate research and weather analysis\n",
    "To find out weather patterns and correlation between melting glaciers and rising temperatures between 1990 and 2022\n",
    "<br><br> \n",
    "- Explore weather data from 5 cities in each hemisphere:\n",
    "  - Northern Hemisphere\n",
    "    - New York\n",
    "    - Munich\n",
    "    - Istanbul\n",
    "    - Dubai\n",
    "    - Tokyo\n",
    "  - Equator\n",
    "    - Bogotá\n",
    "    - Brasília\n",
    "    - Nairobi\n",
    "    - Malé\n",
    "    - Jakarta\n",
    "  - Southern Hemisphere\n",
    "    - Maputo\n",
    "    - Antananarivo\n",
    "    - Cape Town\n",
    "    - Sydney\n",
    "    - Auckland\n",
    "- Analyze yearly and monthly avg, min, max temps and rainfall.\n",
    "- Analyze melting glacier rate in north pole (Arctic) and south pole (Antarctica)\n",
    "- Analyze CO2 levels and vegetation degradtion impact\n",
    "- Analyze human/animal fatalities by environmental causes\n",
    "\n",
    "<br> Disclaimer: The research is on-going and will be updated periodically\n",
    "\n",
    "\n",
    " "
   ]
  },
  {
   "cell_type": "code",
   "execution_count": 329,
   "metadata": {},
   "outputs": [],
   "source": [
    "#importing libraries\n",
    "import pandas as pd\n",
    "import numpy as np\n",
    "#import requests\n",
    "from datetime import datetime\n",
    "import matplotlib.pyplot as plt\n",
    "from meteostat import Point, Daily, Stations, Normals\n",
    "import seaborn as sbn"
   ]
  },
  {
   "cell_type": "code",
   "execution_count": 304,
   "metadata": {},
   "outputs": [],
   "source": [
    "# Set time period\n",
    "start = datetime(1990, 1, 1)\n",
    "end = datetime(2022, 12, 31)\n",
    "\n",
    "##The points are latitude and longitude, the MeteoStat API automatically uses Nearest Neighbour to fetch data from closest weather station to the lat & lon points provided\n",
    "\n",
    "#Northern Hemisphere\n",
    "#New York\n",
    "new_york_location = Point(40.712776, -74.005974)\n",
    "#Munich\n",
    "munich_location = Point(48.135124, 11.581981)\n",
    "#Istanbul\n",
    "istanbul_location = Point(41.008240, 28.978359)\n",
    "#Dubai\n",
    "dubai_location = Point(25.276987, 55.296249)\n",
    "#Tokyo\n",
    "tokyo_location = Point(35.652832, 139.839478)\n",
    "\n",
    "#Equator\n",
    "#Bogotá\n",
    "bogota_location = Point(4.624335, -74.063644)\n",
    "#Rio de Janeiro\n",
    "rio_de_janeiro_location = Point(-22.970722, -43.182365)\n",
    "#Nairobi\n",
    "nairobi_location = Point(-1.362863, 36.834583)\n",
    "#Malé\n",
    "male_location = Point(1.924992, 73.399658)\n",
    "#Jakarta\n",
    "jakarta_location = Point(-6.121435, 106.774124)\n",
    "\n",
    "#Southern Hemisphere\n",
    "#Maputo\n",
    "maputo_location = Point(-25.953724, 32.588711)\n",
    "#Antananarivo\n",
    "antananarivo_location = Point(-18.879190, 47.507905)\n",
    "#Cape Town\n",
    "cape_town_location = Point(-34.254570, 18.406263)\n",
    "#Sydney\n",
    "sydney_location = Point(-33.870453, 151.208755)\n",
    "#Auckland\n",
    "auckland_location = Point(-36.850109, 174.767700)"
   ]
  },
  {
   "cell_type": "code",
   "execution_count": 305,
   "metadata": {},
   "outputs": [
    {
     "name": "stdout",
     "output_type": "stream",
     "text": [
      "                         name country region   wmo  icao  latitude  longitude  \\\n",
      "id                                                                              \n",
      "KJRB0  New York / Wall Street      US     NY  <NA>  KJRB   40.7012    -74.009   \n",
      "\n",
      "       elevation          timezone hourly_start hourly_end daily_start  \\\n",
      "id                                                                       \n",
      "KJRB0        2.0  America/New_York   2016-07-20 2023-06-16  2016-07-21   \n",
      "\n",
      "       daily_end monthly_start monthly_end     distance  \n",
      "id                                                       \n",
      "KJRB0 2022-04-24    2019-01-01  2021-01-01  1312.220903  \n"
     ]
    }
   ],
   "source": [
    "# Get nearby weather stations using the points\n",
    "stations = Stations()\n",
    "stations = stations.nearby(40.712776, -74.005974)\n",
    "station = stations.fetch(1)\n",
    "\n",
    "# Print DataFrame\n",
    "print(station)\n"
   ]
  },
  {
   "cell_type": "code",
   "execution_count": 306,
   "metadata": {},
   "outputs": [],
   "source": [
    "#Northern Hemisphere\n",
    "new_york_data = Daily(new_york_location, start, end)\n",
    "new_york_data = new_york_data.fetch()\n",
    "df_new_york = pd.DataFrame(new_york_data)\n",
    "ny_location = 'new_york'\n",
    "df_new_york['location'] = ny_location\n",
    "\n",
    "munich_data = Daily(munich_location, start, end)\n",
    "munich_data = munich_data.fetch()\n",
    "df_munich = pd.DataFrame(munich_data)\n",
    "mu_location = 'munich'\n",
    "df_munich['location'] = mu_location\n",
    "\n",
    "istanbul_data = Daily(istanbul_location, start, end)\n",
    "istanbul_data = istanbul_data.fetch()\n",
    "df_istanbul = pd.DataFrame(istanbul_data)\n",
    "ist_location = 'istanbul'\n",
    "df_istanbul['location'] = ist_location\n",
    "\n",
    "dubai_data = Daily(dubai_location, start, end)\n",
    "dubai_data = dubai_data.fetch()\n",
    "df_dubai = pd.DataFrame(dubai_data)\n",
    "dub_location = 'dubai'\n",
    "df_dubai['location'] = dub_location\n",
    "\n",
    "tokyo_data = Daily(tokyo_location, start, end)\n",
    "tokyo_data = tokyo_data.fetch()\n",
    "df_tokyo = pd.DataFrame(tokyo_data)\n",
    "tok_location = 'tokyo'\n",
    "df_tokyo['location'] = tok_location\n",
    "\n",
    "#Equator\n",
    "bogota_data = Daily(bogota_location, start, end)\n",
    "bogota_data = bogota_data.fetch()\n",
    "df_bogota = pd.DataFrame(bogota_data)\n",
    "bog_location = 'bogota'\n",
    "df_bogota['location'] = bog_location\n",
    "\n",
    "rio_data = Daily(rio_de_janeiro_location, start, end)\n",
    "rio_data = rio_data.fetch()\n",
    "df_rio = pd.DataFrame(rio_data)\n",
    "rio_location = 'rio_de_janeiro'\n",
    "df_rio['location'] = rio_location\n",
    "\n",
    "nairobi_data = Daily(nairobi_location, start, end)\n",
    "nairobi_data = nairobi_data.fetch()\n",
    "df_nairobi = pd.DataFrame(nairobi_data)\n",
    "nai_location = 'nairobi'\n",
    "df_nairobi['location'] = nai_location\n",
    "\n",
    "male_data = Daily(male_location, start, end)\n",
    "male_data = male_data.fetch()\n",
    "df_male = pd.DataFrame(male_data)\n",
    "male_location = 'male'\n",
    "df_male['location'] = male_location\n",
    "\n",
    "jakarta_data = Daily(jakarta_location, start, end)\n",
    "jakarta_data = jakarta_data.fetch()\n",
    "df_jakarta = pd.DataFrame(jakarta_data)\n",
    "jak_location = 'jakarata'\n",
    "df_jakarta['location'] = jak_location\n",
    "\n",
    "#Southern Hemisphere\n",
    "maputo_data = Daily(maputo_location, start, end)\n",
    "maputo_data = maputo_data.fetch()\n",
    "df_maputo = pd.DataFrame(maputo_data)\n",
    "mapu_location = 'maputo'\n",
    "df_maputo['location'] = mapu_location\n",
    "\n",
    "ant_data = Daily(antananarivo_location, start, end)\n",
    "ant_data = ant_data.fetch()\n",
    "df_ant = pd.DataFrame(ant_data)\n",
    "ant_location = 'antananarivo'\n",
    "df_ant['location'] = ant_location\n",
    "\n",
    "cape_data = Daily(cape_town_location, start, end)\n",
    "cape_data = cape_data.fetch()\n",
    "df_cape = pd.DataFrame(cape_data)\n",
    "cape_location = 'cape_town'\n",
    "df_cape['location'] = cape_location\n",
    "\n",
    "sydney_data = Daily(sydney_location, start, end)\n",
    "sydney_data = sydney_data.fetch()\n",
    "df_sydney = pd.DataFrame(sydney_data)\n",
    "syd_location = 'sydney'\n",
    "df_sydney['location'] = syd_location\n",
    "\n",
    "auckland_data = Daily(auckland_location, start, end)\n",
    "auckland_data = auckland_data.fetch()\n",
    "df_auckland = pd.DataFrame(auckland_data)\n",
    "auck_location = 'auckland'\n",
    "df_auckland['location'] = auck_location\n",
    "\n"
   ]
  },
  {
   "cell_type": "code",
   "execution_count": 307,
   "metadata": {},
   "outputs": [],
   "source": [
    "##Add hemisphere field where loc is ....\n",
    "dframes_uncon = [df_new_york, df_munich, df_istanbul, df_dubai, df_tokyo,\n",
    "                 ##\n",
    "                 df_bogota, df_rio, df_nairobi, df_male, df_jakarta,\n",
    "                 ##\n",
    "                 df_maputo, df_ant, df_cape, df_sydney, df_auckland]\n",
    "dframes = pd.concat(dframes_uncon)"
   ]
  },
  {
   "cell_type": "code",
   "execution_count": 308,
   "metadata": {},
   "outputs": [
    {
     "data": {
      "text/html": [
       "<div>\n",
       "<style scoped>\n",
       "    .dataframe tbody tr th:only-of-type {\n",
       "        vertical-align: middle;\n",
       "    }\n",
       "\n",
       "    .dataframe tbody tr th {\n",
       "        vertical-align: top;\n",
       "    }\n",
       "\n",
       "    .dataframe thead th {\n",
       "        text-align: right;\n",
       "    }\n",
       "</style>\n",
       "<table border=\"1\" class=\"dataframe\">\n",
       "  <thead>\n",
       "    <tr style=\"text-align: right;\">\n",
       "      <th></th>\n",
       "      <th>tavg</th>\n",
       "      <th>tmin</th>\n",
       "      <th>tmax</th>\n",
       "      <th>prcp</th>\n",
       "      <th>snow</th>\n",
       "      <th>wdir</th>\n",
       "      <th>wspd</th>\n",
       "      <th>wpgt</th>\n",
       "      <th>pres</th>\n",
       "      <th>tsun</th>\n",
       "      <th>location</th>\n",
       "    </tr>\n",
       "    <tr>\n",
       "      <th>time</th>\n",
       "      <th></th>\n",
       "      <th></th>\n",
       "      <th></th>\n",
       "      <th></th>\n",
       "      <th></th>\n",
       "      <th></th>\n",
       "      <th></th>\n",
       "      <th></th>\n",
       "      <th></th>\n",
       "      <th></th>\n",
       "      <th></th>\n",
       "    </tr>\n",
       "  </thead>\n",
       "  <tbody>\n",
       "    <tr>\n",
       "      <th>1990-01-01</th>\n",
       "      <td>4.3</td>\n",
       "      <td>0.0</td>\n",
       "      <td>7.8</td>\n",
       "      <td>3.6</td>\n",
       "      <td>0.0</td>\n",
       "      <td>271.0</td>\n",
       "      <td>27.0</td>\n",
       "      <td>79.6</td>\n",
       "      <td>1006.8</td>\n",
       "      <td>NaN</td>\n",
       "      <td>new_york</td>\n",
       "    </tr>\n",
       "    <tr>\n",
       "      <th>1990-01-02</th>\n",
       "      <td>1.6</td>\n",
       "      <td>-2.8</td>\n",
       "      <td>6.1</td>\n",
       "      <td>0.0</td>\n",
       "      <td>0.0</td>\n",
       "      <td>254.0</td>\n",
       "      <td>18.7</td>\n",
       "      <td>46.4</td>\n",
       "      <td>1025.9</td>\n",
       "      <td>NaN</td>\n",
       "      <td>new_york</td>\n",
       "    </tr>\n",
       "    <tr>\n",
       "      <th>1990-01-03</th>\n",
       "      <td>3.9</td>\n",
       "      <td>-1.7</td>\n",
       "      <td>10.0</td>\n",
       "      <td>0.0</td>\n",
       "      <td>0.0</td>\n",
       "      <td>NaN</td>\n",
       "      <td>11.2</td>\n",
       "      <td>24.1</td>\n",
       "      <td>1026.0</td>\n",
       "      <td>NaN</td>\n",
       "      <td>new_york</td>\n",
       "    </tr>\n",
       "    <tr>\n",
       "      <th>1990-01-04</th>\n",
       "      <td>4.9</td>\n",
       "      <td>0.6</td>\n",
       "      <td>10.6</td>\n",
       "      <td>0.0</td>\n",
       "      <td>0.0</td>\n",
       "      <td>215.0</td>\n",
       "      <td>14.4</td>\n",
       "      <td>33.5</td>\n",
       "      <td>1016.8</td>\n",
       "      <td>NaN</td>\n",
       "      <td>new_york</td>\n",
       "    </tr>\n",
       "    <tr>\n",
       "      <th>1990-01-05</th>\n",
       "      <td>6.2</td>\n",
       "      <td>2.2</td>\n",
       "      <td>9.4</td>\n",
       "      <td>0.0</td>\n",
       "      <td>0.0</td>\n",
       "      <td>NaN</td>\n",
       "      <td>15.8</td>\n",
       "      <td>46.4</td>\n",
       "      <td>1018.9</td>\n",
       "      <td>NaN</td>\n",
       "      <td>new_york</td>\n",
       "    </tr>\n",
       "  </tbody>\n",
       "</table>\n",
       "</div>"
      ],
      "text/plain": [
       "            tavg  tmin  tmax  prcp  snow   wdir  wspd  wpgt    pres  tsun  \\\n",
       "time                                                                        \n",
       "1990-01-01   4.3   0.0   7.8   3.6   0.0  271.0  27.0  79.6  1006.8   NaN   \n",
       "1990-01-02   1.6  -2.8   6.1   0.0   0.0  254.0  18.7  46.4  1025.9   NaN   \n",
       "1990-01-03   3.9  -1.7  10.0   0.0   0.0    NaN  11.2  24.1  1026.0   NaN   \n",
       "1990-01-04   4.9   0.6  10.6   0.0   0.0  215.0  14.4  33.5  1016.8   NaN   \n",
       "1990-01-05   6.2   2.2   9.4   0.0   0.0    NaN  15.8  46.4  1018.9   NaN   \n",
       "\n",
       "            location  \n",
       "time                  \n",
       "1990-01-01  new_york  \n",
       "1990-01-02  new_york  \n",
       "1990-01-03  new_york  \n",
       "1990-01-04  new_york  \n",
       "1990-01-05  new_york  "
      ]
     },
     "execution_count": 308,
     "metadata": {},
     "output_type": "execute_result"
    }
   ],
   "source": [
    "dframes.head()"
   ]
  },
  {
   "cell_type": "code",
   "execution_count": 309,
   "metadata": {},
   "outputs": [],
   "source": [
    "city = dframes['location'].unique()"
   ]
  },
  {
   "cell_type": "code",
   "execution_count": 310,
   "metadata": {},
   "outputs": [
    {
     "data": {
      "text/plain": [
       "array(['new_york', 'munich', 'istanbul', 'dubai', 'tokyo', 'bogota',\n",
       "       'rio_de_janeiro', 'nairobi', 'male', 'jakarata', 'maputo',\n",
       "       'antananarivo', 'cape_town', 'sydney', 'auckland'], dtype=object)"
      ]
     },
     "execution_count": 310,
     "metadata": {},
     "output_type": "execute_result"
    }
   ],
   "source": [
    "city"
   ]
  },
  {
   "cell_type": "code",
   "execution_count": 311,
   "metadata": {},
   "outputs": [],
   "source": [
    "dframes['hemisphere'] = 'equator'"
   ]
  },
  {
   "cell_type": "code",
   "execution_count": 312,
   "metadata": {},
   "outputs": [],
   "source": [
    "dframes.loc[(dframes['location'] == 'new_york') | (dframes['location'] == 'munich') | (dframes['location'] == 'istanbul') | (dframes['location'] == 'dubai') | (dframes['location'] == 'tokyo'), 'hemisphere'] = 'northern_hemisphere'\n",
    "#Equator is already added\n",
    "dframes.loc[(dframes['location'] == 'maputo') |(dframes['location'] == 'cape_town') |(dframes['location'] == 'sydney') | (dframes['location'] == 'sydney') | (dframes['location'] == 'auckland'), 'hemisphere'] = 'souththern_hemisphere'  "
   ]
  },
  {
   "cell_type": "code",
   "execution_count": 313,
   "metadata": {},
   "outputs": [
    {
     "data": {
      "text/html": [
       "<div>\n",
       "<style scoped>\n",
       "    .dataframe tbody tr th:only-of-type {\n",
       "        vertical-align: middle;\n",
       "    }\n",
       "\n",
       "    .dataframe tbody tr th {\n",
       "        vertical-align: top;\n",
       "    }\n",
       "\n",
       "    .dataframe thead th {\n",
       "        text-align: right;\n",
       "    }\n",
       "</style>\n",
       "<table border=\"1\" class=\"dataframe\">\n",
       "  <thead>\n",
       "    <tr style=\"text-align: right;\">\n",
       "      <th></th>\n",
       "      <th>tavg</th>\n",
       "      <th>tmin</th>\n",
       "      <th>tmax</th>\n",
       "      <th>prcp</th>\n",
       "      <th>snow</th>\n",
       "      <th>wdir</th>\n",
       "      <th>wspd</th>\n",
       "      <th>wpgt</th>\n",
       "      <th>pres</th>\n",
       "      <th>tsun</th>\n",
       "      <th>location</th>\n",
       "      <th>hemisphere</th>\n",
       "    </tr>\n",
       "    <tr>\n",
       "      <th>time</th>\n",
       "      <th></th>\n",
       "      <th></th>\n",
       "      <th></th>\n",
       "      <th></th>\n",
       "      <th></th>\n",
       "      <th></th>\n",
       "      <th></th>\n",
       "      <th></th>\n",
       "      <th></th>\n",
       "      <th></th>\n",
       "      <th></th>\n",
       "      <th></th>\n",
       "    </tr>\n",
       "  </thead>\n",
       "  <tbody>\n",
       "    <tr>\n",
       "      <th>1990-01-01</th>\n",
       "      <td>4.3</td>\n",
       "      <td>0.0</td>\n",
       "      <td>7.8</td>\n",
       "      <td>3.6</td>\n",
       "      <td>0.0</td>\n",
       "      <td>271.0</td>\n",
       "      <td>27.0</td>\n",
       "      <td>79.6</td>\n",
       "      <td>1006.8</td>\n",
       "      <td>NaN</td>\n",
       "      <td>new_york</td>\n",
       "      <td>northern_hemisphere</td>\n",
       "    </tr>\n",
       "    <tr>\n",
       "      <th>1990-01-02</th>\n",
       "      <td>1.6</td>\n",
       "      <td>-2.8</td>\n",
       "      <td>6.1</td>\n",
       "      <td>0.0</td>\n",
       "      <td>0.0</td>\n",
       "      <td>254.0</td>\n",
       "      <td>18.7</td>\n",
       "      <td>46.4</td>\n",
       "      <td>1025.9</td>\n",
       "      <td>NaN</td>\n",
       "      <td>new_york</td>\n",
       "      <td>northern_hemisphere</td>\n",
       "    </tr>\n",
       "    <tr>\n",
       "      <th>1990-01-03</th>\n",
       "      <td>3.9</td>\n",
       "      <td>-1.7</td>\n",
       "      <td>10.0</td>\n",
       "      <td>0.0</td>\n",
       "      <td>0.0</td>\n",
       "      <td>NaN</td>\n",
       "      <td>11.2</td>\n",
       "      <td>24.1</td>\n",
       "      <td>1026.0</td>\n",
       "      <td>NaN</td>\n",
       "      <td>new_york</td>\n",
       "      <td>northern_hemisphere</td>\n",
       "    </tr>\n",
       "    <tr>\n",
       "      <th>1990-01-04</th>\n",
       "      <td>4.9</td>\n",
       "      <td>0.6</td>\n",
       "      <td>10.6</td>\n",
       "      <td>0.0</td>\n",
       "      <td>0.0</td>\n",
       "      <td>215.0</td>\n",
       "      <td>14.4</td>\n",
       "      <td>33.5</td>\n",
       "      <td>1016.8</td>\n",
       "      <td>NaN</td>\n",
       "      <td>new_york</td>\n",
       "      <td>northern_hemisphere</td>\n",
       "    </tr>\n",
       "    <tr>\n",
       "      <th>1990-01-05</th>\n",
       "      <td>6.2</td>\n",
       "      <td>2.2</td>\n",
       "      <td>9.4</td>\n",
       "      <td>0.0</td>\n",
       "      <td>0.0</td>\n",
       "      <td>NaN</td>\n",
       "      <td>15.8</td>\n",
       "      <td>46.4</td>\n",
       "      <td>1018.9</td>\n",
       "      <td>NaN</td>\n",
       "      <td>new_york</td>\n",
       "      <td>northern_hemisphere</td>\n",
       "    </tr>\n",
       "    <tr>\n",
       "      <th>...</th>\n",
       "      <td>...</td>\n",
       "      <td>...</td>\n",
       "      <td>...</td>\n",
       "      <td>...</td>\n",
       "      <td>...</td>\n",
       "      <td>...</td>\n",
       "      <td>...</td>\n",
       "      <td>...</td>\n",
       "      <td>...</td>\n",
       "      <td>...</td>\n",
       "      <td>...</td>\n",
       "      <td>...</td>\n",
       "    </tr>\n",
       "    <tr>\n",
       "      <th>2022-12-27</th>\n",
       "      <td>19.3</td>\n",
       "      <td>15.7</td>\n",
       "      <td>23.2</td>\n",
       "      <td>2.9</td>\n",
       "      <td>NaN</td>\n",
       "      <td>136.0</td>\n",
       "      <td>7.1</td>\n",
       "      <td>NaN</td>\n",
       "      <td>1019.1</td>\n",
       "      <td>NaN</td>\n",
       "      <td>auckland</td>\n",
       "      <td>souththern_hemisphere</td>\n",
       "    </tr>\n",
       "    <tr>\n",
       "      <th>2022-12-28</th>\n",
       "      <td>19.9</td>\n",
       "      <td>15.8</td>\n",
       "      <td>23.8</td>\n",
       "      <td>0.0</td>\n",
       "      <td>NaN</td>\n",
       "      <td>67.0</td>\n",
       "      <td>9.2</td>\n",
       "      <td>NaN</td>\n",
       "      <td>1021.5</td>\n",
       "      <td>NaN</td>\n",
       "      <td>auckland</td>\n",
       "      <td>souththern_hemisphere</td>\n",
       "    </tr>\n",
       "    <tr>\n",
       "      <th>2022-12-29</th>\n",
       "      <td>19.3</td>\n",
       "      <td>16.0</td>\n",
       "      <td>22.1</td>\n",
       "      <td>3.1</td>\n",
       "      <td>NaN</td>\n",
       "      <td>8.0</td>\n",
       "      <td>7.7</td>\n",
       "      <td>NaN</td>\n",
       "      <td>1023.6</td>\n",
       "      <td>NaN</td>\n",
       "      <td>auckland</td>\n",
       "      <td>souththern_hemisphere</td>\n",
       "    </tr>\n",
       "    <tr>\n",
       "      <th>2022-12-30</th>\n",
       "      <td>19.4</td>\n",
       "      <td>16.9</td>\n",
       "      <td>22.2</td>\n",
       "      <td>0.0</td>\n",
       "      <td>NaN</td>\n",
       "      <td>222.0</td>\n",
       "      <td>14.4</td>\n",
       "      <td>NaN</td>\n",
       "      <td>1019.5</td>\n",
       "      <td>NaN</td>\n",
       "      <td>auckland</td>\n",
       "      <td>souththern_hemisphere</td>\n",
       "    </tr>\n",
       "    <tr>\n",
       "      <th>2022-12-31</th>\n",
       "      <td>19.7</td>\n",
       "      <td>16.0</td>\n",
       "      <td>22.7</td>\n",
       "      <td>1.8</td>\n",
       "      <td>NaN</td>\n",
       "      <td>76.0</td>\n",
       "      <td>14.1</td>\n",
       "      <td>NaN</td>\n",
       "      <td>1019.2</td>\n",
       "      <td>NaN</td>\n",
       "      <td>auckland</td>\n",
       "      <td>souththern_hemisphere</td>\n",
       "    </tr>\n",
       "  </tbody>\n",
       "</table>\n",
       "<p>159030 rows × 12 columns</p>\n",
       "</div>"
      ],
      "text/plain": [
       "            tavg  tmin  tmax  prcp  snow   wdir  wspd  wpgt    pres  tsun  \\\n",
       "time                                                                        \n",
       "1990-01-01   4.3   0.0   7.8   3.6   0.0  271.0  27.0  79.6  1006.8   NaN   \n",
       "1990-01-02   1.6  -2.8   6.1   0.0   0.0  254.0  18.7  46.4  1025.9   NaN   \n",
       "1990-01-03   3.9  -1.7  10.0   0.0   0.0    NaN  11.2  24.1  1026.0   NaN   \n",
       "1990-01-04   4.9   0.6  10.6   0.0   0.0  215.0  14.4  33.5  1016.8   NaN   \n",
       "1990-01-05   6.2   2.2   9.4   0.0   0.0    NaN  15.8  46.4  1018.9   NaN   \n",
       "...          ...   ...   ...   ...   ...    ...   ...   ...     ...   ...   \n",
       "2022-12-27  19.3  15.7  23.2   2.9   NaN  136.0   7.1   NaN  1019.1   NaN   \n",
       "2022-12-28  19.9  15.8  23.8   0.0   NaN   67.0   9.2   NaN  1021.5   NaN   \n",
       "2022-12-29  19.3  16.0  22.1   3.1   NaN    8.0   7.7   NaN  1023.6   NaN   \n",
       "2022-12-30  19.4  16.9  22.2   0.0   NaN  222.0  14.4   NaN  1019.5   NaN   \n",
       "2022-12-31  19.7  16.0  22.7   1.8   NaN   76.0  14.1   NaN  1019.2   NaN   \n",
       "\n",
       "            location             hemisphere  \n",
       "time                                         \n",
       "1990-01-01  new_york    northern_hemisphere  \n",
       "1990-01-02  new_york    northern_hemisphere  \n",
       "1990-01-03  new_york    northern_hemisphere  \n",
       "1990-01-04  new_york    northern_hemisphere  \n",
       "1990-01-05  new_york    northern_hemisphere  \n",
       "...              ...                    ...  \n",
       "2022-12-27  auckland  souththern_hemisphere  \n",
       "2022-12-28  auckland  souththern_hemisphere  \n",
       "2022-12-29  auckland  souththern_hemisphere  \n",
       "2022-12-30  auckland  souththern_hemisphere  \n",
       "2022-12-31  auckland  souththern_hemisphere  \n",
       "\n",
       "[159030 rows x 12 columns]"
      ]
     },
     "execution_count": 313,
     "metadata": {},
     "output_type": "execute_result"
    }
   ],
   "source": [
    "dframes"
   ]
  },
  {
   "cell_type": "code",
   "execution_count": 314,
   "metadata": {},
   "outputs": [],
   "source": [
    "dframes.reset_index(inplace=True)"
   ]
  },
  {
   "cell_type": "code",
   "execution_count": 315,
   "metadata": {},
   "outputs": [
    {
     "data": {
      "text/html": [
       "<div>\n",
       "<style scoped>\n",
       "    .dataframe tbody tr th:only-of-type {\n",
       "        vertical-align: middle;\n",
       "    }\n",
       "\n",
       "    .dataframe tbody tr th {\n",
       "        vertical-align: top;\n",
       "    }\n",
       "\n",
       "    .dataframe thead th {\n",
       "        text-align: right;\n",
       "    }\n",
       "</style>\n",
       "<table border=\"1\" class=\"dataframe\">\n",
       "  <thead>\n",
       "    <tr style=\"text-align: right;\">\n",
       "      <th></th>\n",
       "      <th>time</th>\n",
       "      <th>tavg</th>\n",
       "      <th>tmin</th>\n",
       "      <th>tmax</th>\n",
       "      <th>prcp</th>\n",
       "      <th>snow</th>\n",
       "      <th>wdir</th>\n",
       "      <th>wspd</th>\n",
       "      <th>wpgt</th>\n",
       "      <th>pres</th>\n",
       "      <th>tsun</th>\n",
       "      <th>location</th>\n",
       "      <th>hemisphere</th>\n",
       "    </tr>\n",
       "  </thead>\n",
       "  <tbody>\n",
       "    <tr>\n",
       "      <th>0</th>\n",
       "      <td>1990-01-01</td>\n",
       "      <td>4.3</td>\n",
       "      <td>0.0</td>\n",
       "      <td>7.8</td>\n",
       "      <td>3.6</td>\n",
       "      <td>0.0</td>\n",
       "      <td>271.0</td>\n",
       "      <td>27.0</td>\n",
       "      <td>79.6</td>\n",
       "      <td>1006.8</td>\n",
       "      <td>NaN</td>\n",
       "      <td>new_york</td>\n",
       "      <td>northern_hemisphere</td>\n",
       "    </tr>\n",
       "    <tr>\n",
       "      <th>1</th>\n",
       "      <td>1990-01-02</td>\n",
       "      <td>1.6</td>\n",
       "      <td>-2.8</td>\n",
       "      <td>6.1</td>\n",
       "      <td>0.0</td>\n",
       "      <td>0.0</td>\n",
       "      <td>254.0</td>\n",
       "      <td>18.7</td>\n",
       "      <td>46.4</td>\n",
       "      <td>1025.9</td>\n",
       "      <td>NaN</td>\n",
       "      <td>new_york</td>\n",
       "      <td>northern_hemisphere</td>\n",
       "    </tr>\n",
       "    <tr>\n",
       "      <th>2</th>\n",
       "      <td>1990-01-03</td>\n",
       "      <td>3.9</td>\n",
       "      <td>-1.7</td>\n",
       "      <td>10.0</td>\n",
       "      <td>0.0</td>\n",
       "      <td>0.0</td>\n",
       "      <td>NaN</td>\n",
       "      <td>11.2</td>\n",
       "      <td>24.1</td>\n",
       "      <td>1026.0</td>\n",
       "      <td>NaN</td>\n",
       "      <td>new_york</td>\n",
       "      <td>northern_hemisphere</td>\n",
       "    </tr>\n",
       "    <tr>\n",
       "      <th>3</th>\n",
       "      <td>1990-01-04</td>\n",
       "      <td>4.9</td>\n",
       "      <td>0.6</td>\n",
       "      <td>10.6</td>\n",
       "      <td>0.0</td>\n",
       "      <td>0.0</td>\n",
       "      <td>215.0</td>\n",
       "      <td>14.4</td>\n",
       "      <td>33.5</td>\n",
       "      <td>1016.8</td>\n",
       "      <td>NaN</td>\n",
       "      <td>new_york</td>\n",
       "      <td>northern_hemisphere</td>\n",
       "    </tr>\n",
       "    <tr>\n",
       "      <th>4</th>\n",
       "      <td>1990-01-05</td>\n",
       "      <td>6.2</td>\n",
       "      <td>2.2</td>\n",
       "      <td>9.4</td>\n",
       "      <td>0.0</td>\n",
       "      <td>0.0</td>\n",
       "      <td>NaN</td>\n",
       "      <td>15.8</td>\n",
       "      <td>46.4</td>\n",
       "      <td>1018.9</td>\n",
       "      <td>NaN</td>\n",
       "      <td>new_york</td>\n",
       "      <td>northern_hemisphere</td>\n",
       "    </tr>\n",
       "    <tr>\n",
       "      <th>...</th>\n",
       "      <td>...</td>\n",
       "      <td>...</td>\n",
       "      <td>...</td>\n",
       "      <td>...</td>\n",
       "      <td>...</td>\n",
       "      <td>...</td>\n",
       "      <td>...</td>\n",
       "      <td>...</td>\n",
       "      <td>...</td>\n",
       "      <td>...</td>\n",
       "      <td>...</td>\n",
       "      <td>...</td>\n",
       "      <td>...</td>\n",
       "    </tr>\n",
       "    <tr>\n",
       "      <th>159025</th>\n",
       "      <td>2022-12-27</td>\n",
       "      <td>19.3</td>\n",
       "      <td>15.7</td>\n",
       "      <td>23.2</td>\n",
       "      <td>2.9</td>\n",
       "      <td>NaN</td>\n",
       "      <td>136.0</td>\n",
       "      <td>7.1</td>\n",
       "      <td>NaN</td>\n",
       "      <td>1019.1</td>\n",
       "      <td>NaN</td>\n",
       "      <td>auckland</td>\n",
       "      <td>souththern_hemisphere</td>\n",
       "    </tr>\n",
       "    <tr>\n",
       "      <th>159026</th>\n",
       "      <td>2022-12-28</td>\n",
       "      <td>19.9</td>\n",
       "      <td>15.8</td>\n",
       "      <td>23.8</td>\n",
       "      <td>0.0</td>\n",
       "      <td>NaN</td>\n",
       "      <td>67.0</td>\n",
       "      <td>9.2</td>\n",
       "      <td>NaN</td>\n",
       "      <td>1021.5</td>\n",
       "      <td>NaN</td>\n",
       "      <td>auckland</td>\n",
       "      <td>souththern_hemisphere</td>\n",
       "    </tr>\n",
       "    <tr>\n",
       "      <th>159027</th>\n",
       "      <td>2022-12-29</td>\n",
       "      <td>19.3</td>\n",
       "      <td>16.0</td>\n",
       "      <td>22.1</td>\n",
       "      <td>3.1</td>\n",
       "      <td>NaN</td>\n",
       "      <td>8.0</td>\n",
       "      <td>7.7</td>\n",
       "      <td>NaN</td>\n",
       "      <td>1023.6</td>\n",
       "      <td>NaN</td>\n",
       "      <td>auckland</td>\n",
       "      <td>souththern_hemisphere</td>\n",
       "    </tr>\n",
       "    <tr>\n",
       "      <th>159028</th>\n",
       "      <td>2022-12-30</td>\n",
       "      <td>19.4</td>\n",
       "      <td>16.9</td>\n",
       "      <td>22.2</td>\n",
       "      <td>0.0</td>\n",
       "      <td>NaN</td>\n",
       "      <td>222.0</td>\n",
       "      <td>14.4</td>\n",
       "      <td>NaN</td>\n",
       "      <td>1019.5</td>\n",
       "      <td>NaN</td>\n",
       "      <td>auckland</td>\n",
       "      <td>souththern_hemisphere</td>\n",
       "    </tr>\n",
       "    <tr>\n",
       "      <th>159029</th>\n",
       "      <td>2022-12-31</td>\n",
       "      <td>19.7</td>\n",
       "      <td>16.0</td>\n",
       "      <td>22.7</td>\n",
       "      <td>1.8</td>\n",
       "      <td>NaN</td>\n",
       "      <td>76.0</td>\n",
       "      <td>14.1</td>\n",
       "      <td>NaN</td>\n",
       "      <td>1019.2</td>\n",
       "      <td>NaN</td>\n",
       "      <td>auckland</td>\n",
       "      <td>souththern_hemisphere</td>\n",
       "    </tr>\n",
       "  </tbody>\n",
       "</table>\n",
       "<p>159030 rows × 13 columns</p>\n",
       "</div>"
      ],
      "text/plain": [
       "             time  tavg  tmin  tmax  prcp  snow   wdir  wspd  wpgt    pres  \\\n",
       "0      1990-01-01   4.3   0.0   7.8   3.6   0.0  271.0  27.0  79.6  1006.8   \n",
       "1      1990-01-02   1.6  -2.8   6.1   0.0   0.0  254.0  18.7  46.4  1025.9   \n",
       "2      1990-01-03   3.9  -1.7  10.0   0.0   0.0    NaN  11.2  24.1  1026.0   \n",
       "3      1990-01-04   4.9   0.6  10.6   0.0   0.0  215.0  14.4  33.5  1016.8   \n",
       "4      1990-01-05   6.2   2.2   9.4   0.0   0.0    NaN  15.8  46.4  1018.9   \n",
       "...           ...   ...   ...   ...   ...   ...    ...   ...   ...     ...   \n",
       "159025 2022-12-27  19.3  15.7  23.2   2.9   NaN  136.0   7.1   NaN  1019.1   \n",
       "159026 2022-12-28  19.9  15.8  23.8   0.0   NaN   67.0   9.2   NaN  1021.5   \n",
       "159027 2022-12-29  19.3  16.0  22.1   3.1   NaN    8.0   7.7   NaN  1023.6   \n",
       "159028 2022-12-30  19.4  16.9  22.2   0.0   NaN  222.0  14.4   NaN  1019.5   \n",
       "159029 2022-12-31  19.7  16.0  22.7   1.8   NaN   76.0  14.1   NaN  1019.2   \n",
       "\n",
       "        tsun  location             hemisphere  \n",
       "0        NaN  new_york    northern_hemisphere  \n",
       "1        NaN  new_york    northern_hemisphere  \n",
       "2        NaN  new_york    northern_hemisphere  \n",
       "3        NaN  new_york    northern_hemisphere  \n",
       "4        NaN  new_york    northern_hemisphere  \n",
       "...      ...       ...                    ...  \n",
       "159025   NaN  auckland  souththern_hemisphere  \n",
       "159026   NaN  auckland  souththern_hemisphere  \n",
       "159027   NaN  auckland  souththern_hemisphere  \n",
       "159028   NaN  auckland  souththern_hemisphere  \n",
       "159029   NaN  auckland  souththern_hemisphere  \n",
       "\n",
       "[159030 rows x 13 columns]"
      ]
     },
     "execution_count": 315,
     "metadata": {},
     "output_type": "execute_result"
    }
   ],
   "source": [
    "dframes"
   ]
  },
  {
   "cell_type": "code",
   "execution_count": 316,
   "metadata": {},
   "outputs": [],
   "source": [
    "df = dframes.rename(columns={'time': 'date'})"
   ]
  },
  {
   "cell_type": "code",
   "execution_count": 317,
   "metadata": {},
   "outputs": [
    {
     "data": {
      "text/plain": [
       "(159030, 13)"
      ]
     },
     "execution_count": 317,
     "metadata": {},
     "output_type": "execute_result"
    }
   ],
   "source": [
    "df.shape"
   ]
  },
  {
   "cell_type": "code",
   "execution_count": 320,
   "metadata": {},
   "outputs": [
    {
     "data": {
      "text/html": [
       "<div>\n",
       "<style scoped>\n",
       "    .dataframe tbody tr th:only-of-type {\n",
       "        vertical-align: middle;\n",
       "    }\n",
       "\n",
       "    .dataframe tbody tr th {\n",
       "        vertical-align: top;\n",
       "    }\n",
       "\n",
       "    .dataframe thead th {\n",
       "        text-align: right;\n",
       "    }\n",
       "</style>\n",
       "<table border=\"1\" class=\"dataframe\">\n",
       "  <thead>\n",
       "    <tr style=\"text-align: right;\">\n",
       "      <th></th>\n",
       "      <th>tavg</th>\n",
       "      <th>tmin</th>\n",
       "      <th>tmax</th>\n",
       "      <th>prcp</th>\n",
       "      <th>snow</th>\n",
       "      <th>wdir</th>\n",
       "      <th>wspd</th>\n",
       "      <th>wpgt</th>\n",
       "      <th>pres</th>\n",
       "      <th>tsun</th>\n",
       "    </tr>\n",
       "  </thead>\n",
       "  <tbody>\n",
       "    <tr>\n",
       "      <th>count</th>\n",
       "      <td>153216.000000</td>\n",
       "      <td>143590.000000</td>\n",
       "      <td>144234.000000</td>\n",
       "      <td>98457.000000</td>\n",
       "      <td>23029.000000</td>\n",
       "      <td>67339.000000</td>\n",
       "      <td>100839.000000</td>\n",
       "      <td>14331.000000</td>\n",
       "      <td>58439.000000</td>\n",
       "      <td>12837.000000</td>\n",
       "    </tr>\n",
       "    <tr>\n",
       "      <th>mean</th>\n",
       "      <td>18.951867</td>\n",
       "      <td>14.517599</td>\n",
       "      <td>23.339180</td>\n",
       "      <td>3.320326</td>\n",
       "      <td>7.486821</td>\n",
       "      <td>172.941416</td>\n",
       "      <td>13.010080</td>\n",
       "      <td>34.865753</td>\n",
       "      <td>1015.832983</td>\n",
       "      <td>287.411467</td>\n",
       "    </tr>\n",
       "    <tr>\n",
       "      <th>std</th>\n",
       "      <td>7.678968</td>\n",
       "      <td>7.826701</td>\n",
       "      <td>8.357022</td>\n",
       "      <td>10.321742</td>\n",
       "      <td>35.296929</td>\n",
       "      <td>108.324262</td>\n",
       "      <td>6.336859</td>\n",
       "      <td>15.243762</td>\n",
       "      <td>7.381124</td>\n",
       "      <td>273.272550</td>\n",
       "    </tr>\n",
       "    <tr>\n",
       "      <th>min</th>\n",
       "      <td>-17.800000</td>\n",
       "      <td>-18.900000</td>\n",
       "      <td>-13.300000</td>\n",
       "      <td>0.000000</td>\n",
       "      <td>0.000000</td>\n",
       "      <td>0.000000</td>\n",
       "      <td>0.000000</td>\n",
       "      <td>3.600000</td>\n",
       "      <td>933.800000</td>\n",
       "      <td>0.000000</td>\n",
       "    </tr>\n",
       "    <tr>\n",
       "      <th>25%</th>\n",
       "      <td>14.000000</td>\n",
       "      <td>9.500000</td>\n",
       "      <td>18.600000</td>\n",
       "      <td>0.000000</td>\n",
       "      <td>0.000000</td>\n",
       "      <td>70.000000</td>\n",
       "      <td>8.700000</td>\n",
       "      <td>24.100000</td>\n",
       "      <td>1011.000000</td>\n",
       "      <td>12.000000</td>\n",
       "    </tr>\n",
       "    <tr>\n",
       "      <th>50%</th>\n",
       "      <td>19.500000</td>\n",
       "      <td>14.700000</td>\n",
       "      <td>24.000000</td>\n",
       "      <td>0.000000</td>\n",
       "      <td>0.000000</td>\n",
       "      <td>178.000000</td>\n",
       "      <td>11.600000</td>\n",
       "      <td>31.300000</td>\n",
       "      <td>1015.900000</td>\n",
       "      <td>222.000000</td>\n",
       "    </tr>\n",
       "    <tr>\n",
       "      <th>75%</th>\n",
       "      <td>24.300000</td>\n",
       "      <td>20.000000</td>\n",
       "      <td>29.000000</td>\n",
       "      <td>2.000000</td>\n",
       "      <td>0.000000</td>\n",
       "      <td>266.000000</td>\n",
       "      <td>15.800000</td>\n",
       "      <td>42.500000</td>\n",
       "      <td>1020.600000</td>\n",
       "      <td>510.000000</td>\n",
       "    </tr>\n",
       "    <tr>\n",
       "      <th>max</th>\n",
       "      <td>41.900000</td>\n",
       "      <td>38.000000</td>\n",
       "      <td>49.000000</td>\n",
       "      <td>450.100000</td>\n",
       "      <td>787.000000</td>\n",
       "      <td>360.000000</td>\n",
       "      <td>76.500000</td>\n",
       "      <td>124.600000</td>\n",
       "      <td>1045.000000</td>\n",
       "      <td>943.000000</td>\n",
       "    </tr>\n",
       "  </tbody>\n",
       "</table>\n",
       "</div>"
      ],
      "text/plain": [
       "                tavg           tmin           tmax          prcp  \\\n",
       "count  153216.000000  143590.000000  144234.000000  98457.000000   \n",
       "mean       18.951867      14.517599      23.339180      3.320326   \n",
       "std         7.678968       7.826701       8.357022     10.321742   \n",
       "min       -17.800000     -18.900000     -13.300000      0.000000   \n",
       "25%        14.000000       9.500000      18.600000      0.000000   \n",
       "50%        19.500000      14.700000      24.000000      0.000000   \n",
       "75%        24.300000      20.000000      29.000000      2.000000   \n",
       "max        41.900000      38.000000      49.000000    450.100000   \n",
       "\n",
       "               snow          wdir           wspd          wpgt          pres  \\\n",
       "count  23029.000000  67339.000000  100839.000000  14331.000000  58439.000000   \n",
       "mean       7.486821    172.941416      13.010080     34.865753   1015.832983   \n",
       "std       35.296929    108.324262       6.336859     15.243762      7.381124   \n",
       "min        0.000000      0.000000       0.000000      3.600000    933.800000   \n",
       "25%        0.000000     70.000000       8.700000     24.100000   1011.000000   \n",
       "50%        0.000000    178.000000      11.600000     31.300000   1015.900000   \n",
       "75%        0.000000    266.000000      15.800000     42.500000   1020.600000   \n",
       "max      787.000000    360.000000      76.500000    124.600000   1045.000000   \n",
       "\n",
       "               tsun  \n",
       "count  12837.000000  \n",
       "mean     287.411467  \n",
       "std      273.272550  \n",
       "min        0.000000  \n",
       "25%       12.000000  \n",
       "50%      222.000000  \n",
       "75%      510.000000  \n",
       "max      943.000000  "
      ]
     },
     "execution_count": 320,
     "metadata": {},
     "output_type": "execute_result"
    }
   ],
   "source": [
    "df.describe()"
   ]
  },
  {
   "cell_type": "code",
   "execution_count": 324,
   "metadata": {},
   "outputs": [
    {
     "name": "stdout",
     "output_type": "stream",
     "text": [
      "<class 'pandas.core.frame.DataFrame'>\n",
      "RangeIndex: 159030 entries, 0 to 159029\n",
      "Data columns (total 13 columns):\n",
      " #   Column      Non-Null Count   Dtype         \n",
      "---  ------      --------------   -----         \n",
      " 0   date        159030 non-null  datetime64[ns]\n",
      " 1   tavg        153216 non-null  float64       \n",
      " 2   tmin        143590 non-null  float64       \n",
      " 3   tmax        144234 non-null  float64       \n",
      " 4   prcp        98457 non-null   float64       \n",
      " 5   snow        23029 non-null   float64       \n",
      " 6   wdir        67339 non-null   float64       \n",
      " 7   wspd        100839 non-null  float64       \n",
      " 8   wpgt        14331 non-null   float64       \n",
      " 9   pres        58439 non-null   float64       \n",
      " 10  tsun        12837 non-null   float64       \n",
      " 11  location    159030 non-null  object        \n",
      " 12  hemisphere  159030 non-null  object        \n",
      "dtypes: datetime64[ns](1), float64(10), object(2)\n",
      "memory usage: 15.8+ MB\n"
     ]
    }
   ],
   "source": [
    "df.info()"
   ]
  },
  {
   "attachments": {},
   "cell_type": "markdown",
   "metadata": {},
   "source": [
    "EDA"
   ]
  },
  {
   "cell_type": "code",
   "execution_count": 325,
   "metadata": {},
   "outputs": [
    {
     "data": {
      "text/html": [
       "<div>\n",
       "<style scoped>\n",
       "    .dataframe tbody tr th:only-of-type {\n",
       "        vertical-align: middle;\n",
       "    }\n",
       "\n",
       "    .dataframe tbody tr th {\n",
       "        vertical-align: top;\n",
       "    }\n",
       "\n",
       "    .dataframe thead th {\n",
       "        text-align: right;\n",
       "    }\n",
       "</style>\n",
       "<table border=\"1\" class=\"dataframe\">\n",
       "  <thead>\n",
       "    <tr style=\"text-align: right;\">\n",
       "      <th></th>\n",
       "      <th>tavg</th>\n",
       "      <th>tmin</th>\n",
       "      <th>tmax</th>\n",
       "      <th>prcp</th>\n",
       "      <th>snow</th>\n",
       "      <th>wdir</th>\n",
       "      <th>wspd</th>\n",
       "      <th>wpgt</th>\n",
       "      <th>pres</th>\n",
       "      <th>tsun</th>\n",
       "    </tr>\n",
       "  </thead>\n",
       "  <tbody>\n",
       "    <tr>\n",
       "      <th>tavg</th>\n",
       "      <td>1.000000</td>\n",
       "      <td>0.965673</td>\n",
       "      <td>0.970473</td>\n",
       "      <td>0.000181</td>\n",
       "      <td>-0.309148</td>\n",
       "      <td>-0.168645</td>\n",
       "      <td>-0.080204</td>\n",
       "      <td>0.049581</td>\n",
       "      <td>-0.380311</td>\n",
       "      <td>0.462676</td>\n",
       "    </tr>\n",
       "    <tr>\n",
       "      <th>tmin</th>\n",
       "      <td>0.965673</td>\n",
       "      <td>1.000000</td>\n",
       "      <td>0.908834</td>\n",
       "      <td>0.033062</td>\n",
       "      <td>-0.307773</td>\n",
       "      <td>-0.168551</td>\n",
       "      <td>-0.040187</td>\n",
       "      <td>0.059142</td>\n",
       "      <td>-0.398037</td>\n",
       "      <td>0.295237</td>\n",
       "    </tr>\n",
       "    <tr>\n",
       "      <th>tmax</th>\n",
       "      <td>0.970473</td>\n",
       "      <td>0.908834</td>\n",
       "      <td>1.000000</td>\n",
       "      <td>-0.026960</td>\n",
       "      <td>-0.304473</td>\n",
       "      <td>-0.164396</td>\n",
       "      <td>-0.114581</td>\n",
       "      <td>0.045058</td>\n",
       "      <td>-0.357046</td>\n",
       "      <td>0.560723</td>\n",
       "    </tr>\n",
       "    <tr>\n",
       "      <th>prcp</th>\n",
       "      <td>0.000181</td>\n",
       "      <td>0.033062</td>\n",
       "      <td>-0.026960</td>\n",
       "      <td>1.000000</td>\n",
       "      <td>0.003863</td>\n",
       "      <td>-0.002834</td>\n",
       "      <td>0.070483</td>\n",
       "      <td>0.229970</td>\n",
       "      <td>-0.168872</td>\n",
       "      <td>-0.207020</td>\n",
       "    </tr>\n",
       "    <tr>\n",
       "      <th>snow</th>\n",
       "      <td>-0.309148</td>\n",
       "      <td>-0.307773</td>\n",
       "      <td>-0.304473</td>\n",
       "      <td>0.003863</td>\n",
       "      <td>1.000000</td>\n",
       "      <td>0.023038</td>\n",
       "      <td>0.042448</td>\n",
       "      <td>-0.019152</td>\n",
       "      <td>0.036555</td>\n",
       "      <td>-0.125728</td>\n",
       "    </tr>\n",
       "    <tr>\n",
       "      <th>wdir</th>\n",
       "      <td>-0.168645</td>\n",
       "      <td>-0.168551</td>\n",
       "      <td>-0.164396</td>\n",
       "      <td>-0.002834</td>\n",
       "      <td>0.023038</td>\n",
       "      <td>1.000000</td>\n",
       "      <td>0.057171</td>\n",
       "      <td>0.262723</td>\n",
       "      <td>-0.078050</td>\n",
       "      <td>-0.238196</td>\n",
       "    </tr>\n",
       "    <tr>\n",
       "      <th>wspd</th>\n",
       "      <td>-0.080204</td>\n",
       "      <td>-0.040187</td>\n",
       "      <td>-0.114581</td>\n",
       "      <td>0.070483</td>\n",
       "      <td>0.042448</td>\n",
       "      <td>0.057171</td>\n",
       "      <td>1.000000</td>\n",
       "      <td>0.776114</td>\n",
       "      <td>-0.113800</td>\n",
       "      <td>-0.275357</td>\n",
       "    </tr>\n",
       "    <tr>\n",
       "      <th>wpgt</th>\n",
       "      <td>0.049581</td>\n",
       "      <td>0.059142</td>\n",
       "      <td>0.045058</td>\n",
       "      <td>0.229970</td>\n",
       "      <td>-0.019152</td>\n",
       "      <td>0.262723</td>\n",
       "      <td>0.776114</td>\n",
       "      <td>1.000000</td>\n",
       "      <td>-0.287508</td>\n",
       "      <td>-0.120503</td>\n",
       "    </tr>\n",
       "    <tr>\n",
       "      <th>pres</th>\n",
       "      <td>-0.380311</td>\n",
       "      <td>-0.398037</td>\n",
       "      <td>-0.357046</td>\n",
       "      <td>-0.168872</td>\n",
       "      <td>0.036555</td>\n",
       "      <td>-0.078050</td>\n",
       "      <td>-0.113800</td>\n",
       "      <td>-0.287508</td>\n",
       "      <td>1.000000</td>\n",
       "      <td>0.074102</td>\n",
       "    </tr>\n",
       "    <tr>\n",
       "      <th>tsun</th>\n",
       "      <td>0.462676</td>\n",
       "      <td>0.295237</td>\n",
       "      <td>0.560723</td>\n",
       "      <td>-0.207020</td>\n",
       "      <td>-0.125728</td>\n",
       "      <td>-0.238196</td>\n",
       "      <td>-0.275357</td>\n",
       "      <td>-0.120503</td>\n",
       "      <td>0.074102</td>\n",
       "      <td>1.000000</td>\n",
       "    </tr>\n",
       "  </tbody>\n",
       "</table>\n",
       "</div>"
      ],
      "text/plain": [
       "          tavg      tmin      tmax      prcp      snow      wdir      wspd  \\\n",
       "tavg  1.000000  0.965673  0.970473  0.000181 -0.309148 -0.168645 -0.080204   \n",
       "tmin  0.965673  1.000000  0.908834  0.033062 -0.307773 -0.168551 -0.040187   \n",
       "tmax  0.970473  0.908834  1.000000 -0.026960 -0.304473 -0.164396 -0.114581   \n",
       "prcp  0.000181  0.033062 -0.026960  1.000000  0.003863 -0.002834  0.070483   \n",
       "snow -0.309148 -0.307773 -0.304473  0.003863  1.000000  0.023038  0.042448   \n",
       "wdir -0.168645 -0.168551 -0.164396 -0.002834  0.023038  1.000000  0.057171   \n",
       "wspd -0.080204 -0.040187 -0.114581  0.070483  0.042448  0.057171  1.000000   \n",
       "wpgt  0.049581  0.059142  0.045058  0.229970 -0.019152  0.262723  0.776114   \n",
       "pres -0.380311 -0.398037 -0.357046 -0.168872  0.036555 -0.078050 -0.113800   \n",
       "tsun  0.462676  0.295237  0.560723 -0.207020 -0.125728 -0.238196 -0.275357   \n",
       "\n",
       "          wpgt      pres      tsun  \n",
       "tavg  0.049581 -0.380311  0.462676  \n",
       "tmin  0.059142 -0.398037  0.295237  \n",
       "tmax  0.045058 -0.357046  0.560723  \n",
       "prcp  0.229970 -0.168872 -0.207020  \n",
       "snow -0.019152  0.036555 -0.125728  \n",
       "wdir  0.262723 -0.078050 -0.238196  \n",
       "wspd  0.776114 -0.113800 -0.275357  \n",
       "wpgt  1.000000 -0.287508 -0.120503  \n",
       "pres -0.287508  1.000000  0.074102  \n",
       "tsun -0.120503  0.074102  1.000000  "
      ]
     },
     "execution_count": 325,
     "metadata": {},
     "output_type": "execute_result"
    }
   ],
   "source": [
    "df.corr()"
   ]
  },
  {
   "cell_type": "code",
   "execution_count": 330,
   "metadata": {},
   "outputs": [
    {
     "data": {
      "image/png": "[encoded data removed]",
      "text/plain": [
       "<Figure size 640x480 with 2 Axes>"
      ]
     },
     "metadata": {},
     "output_type": "display_data"
    }
   ],
   "source": [
    "dataplot = sbn.heatmap(df.corr(), cmap=\"YlGnBu\", annot=True)\n",
    "plt.show()"
   ]
  },
  {
   "cell_type": "code",
   "execution_count": 331,
   "metadata": {},
   "outputs": [
    {
     "data": {
      "image/png": "[encoded data removed]",
      "text/plain": [
       "<Figure size 640x480 with 2 Axes>"
      ]
     },
     "metadata": {},
     "output_type": "display_data"
    }
   ],
   "source": [
    "dataplot=sbn.heatmap(df.corr())\n",
    "plt.show()"
   ]
  },
  {
   "cell_type": "code",
   "execution_count": 334,
   "metadata": {},
   "outputs": [
    {
     "name": "stdout",
     "output_type": "stream",
     "text": [
      "duplicate rows:  (0, 13)\n"
     ]
    }
   ],
   "source": [
    "duplicate_rows = df[df.duplicated()]\n",
    "print(\"duplicate rows: \", duplicate_rows.shape)"
   ]
  },
  {
   "cell_type": "code",
   "execution_count": 336,
   "metadata": {},
   "outputs": [
    {
     "name": "stdout",
     "output_type": "stream",
     "text": [
      "date               0\n",
      "tavg            5814\n",
      "tmin           15440\n",
      "tmax           14796\n",
      "prcp           60573\n",
      "snow          136001\n",
      "wdir           91691\n",
      "wspd           58191\n",
      "wpgt          144699\n",
      "pres          100591\n",
      "tsun          146193\n",
      "location           0\n",
      "hemisphere         0\n",
      "dtype: int64\n"
     ]
    }
   ],
   "source": [
    "#total rows 159030 \n",
    "print(df.isnull().sum())"
   ]
  },
  {
   "cell_type": "code",
   "execution_count": 337,
   "metadata": {},
   "outputs": [
    {
     "data": {
      "text/plain": [
       "<AxesSubplot:xlabel='tavg'>"
      ]
     },
     "execution_count": 337,
     "metadata": {},
     "output_type": "execute_result"
    },
    {
     "data": {
      "image/png": "[encoded data removed]",
      "text/plain": [
       "<Figure size 640x480 with 1 Axes>"
      ]
     },
     "metadata": {},
     "output_type": "display_data"
    }
   ],
   "source": [
    "sbn.boxplot(x=df['tavg'])"
   ]
  },
  {
   "cell_type": "code",
   "execution_count": 338,
   "metadata": {},
   "outputs": [
    {
     "data": {
      "text/plain": [
       "<AxesSubplot:xlabel='tmin'>"
      ]
     },
     "execution_count": 338,
     "metadata": {},
     "output_type": "execute_result"
    },
    {
     "data": {
      "image/png": "[encoded data removed]",
      "text/plain": [
       "<Figure size 640x480 with 1 Axes>"
      ]
     },
     "metadata": {},
     "output_type": "display_data"
    }
   ],
   "source": [
    "sbn.boxplot(x=df['tmin'])"
   ]
  },
  {
   "cell_type": "code",
   "execution_count": 339,
   "metadata": {},
   "outputs": [
    {
     "data": {
      "text/plain": [
       "<AxesSubplot:xlabel='tmax'>"
      ]
     },
     "execution_count": 339,
     "metadata": {},
     "output_type": "execute_result"
    },
    {
     "data": {
      "image/png": "[encoded data removed]",
      "text/plain": [
       "<Figure size 640x480 with 1 Axes>"
      ]
     },
     "metadata": {},
     "output_type": "display_data"
    }
   ],
   "source": [
    "sbn.boxplot(x=df['tmax'])"
   ]
  },
  {
   "cell_type": "code",
   "execution_count": 340,
   "metadata": {},
   "outputs": [
    {
     "data": {
      "text/plain": [
       "<AxesSubplot:xlabel='prcp'>"
      ]
     },
     "execution_count": 340,
     "metadata": {},
     "output_type": "execute_result"
    },
    {
     "data": {
      "image/png": "[encoded data removed]",
      "text/plain": [
       "<Figure size 640x480 with 1 Axes>"
      ]
     },
     "metadata": {},
     "output_type": "display_data"
    }
   ],
   "source": [
    "sbn.boxplot(x=df['prcp'])"
   ]
  },
  {
   "cell_type": "code",
   "execution_count": 341,
   "metadata": {},
   "outputs": [
    {
     "data": {
      "text/plain": [
       "<AxesSubplot:xlabel='tsun'>"
      ]
     },
     "execution_count": 341,
     "metadata": {},
     "output_type": "execute_result"
    },
    {
     "data": {
      "image/png": "[encoded data removed]",
      "text/plain": [
       "<Figure size 640x480 with 1 Axes>"
      ]
     },
     "metadata": {},
     "output_type": "display_data"
    }
   ],
   "source": [
    "sbn.boxplot(x=df['tsun'])"
   ]
  },
  {
   "cell_type": "code",
   "execution_count": 342,
   "metadata": {},
   "outputs": [
    {
     "name": "stdout",
     "output_type": "stream",
     "text": [
      "tavg     10.3\n",
      "tmin     10.5\n",
      "tmax     10.4\n",
      "prcp      2.0\n",
      "snow      0.0\n",
      "wdir    196.0\n",
      "wspd      7.1\n",
      "wpgt     18.4\n",
      "pres      9.6\n",
      "tsun    498.0\n",
      "dtype: float64\n"
     ]
    }
   ],
   "source": [
    "Q1 = df.quantile(0.25)\n",
    "Q3 = df.quantile(0.75)\n",
    "IQR = Q3 - Q1\n",
    "print(IQR)"
   ]
  },
  {
   "cell_type": "code",
   "execution_count": 347,
   "metadata": {},
   "outputs": [
    {
     "data": {
      "text/plain": [
       "Text(0.5, 0, 'Cities')"
      ]
     },
     "execution_count": 347,
     "metadata": {},
     "output_type": "execute_result"
    },
    {
     "data": {
      "image/png": "[encoded data removed]",
      "text/plain": [
       "<Figure size 1000x500 with 1 Axes>"
      ]
     },
     "metadata": {},
     "output_type": "display_data"
    }
   ],
   "source": [
    "df.location.value_counts().nlargest(40).plot(kind='bar', figsize=(10,5))\n",
    "plt.title(\"Weather Records Count\")\n",
    "plt.ylabel('Records')\n",
    "plt.xlabel('Cities')"
   ]
  },
  {
   "attachments": {},
   "cell_type": "markdown",
   "metadata": {},
   "source": [
    "Cape Town's and Male's records are not captured completely"
   ]
  },
  {
   "cell_type": "code",
   "execution_count": 357,
   "metadata": {},
   "outputs": [
    {
     "data": {
      "text/plain": [
       "Timestamp('2018-07-21 00:00:00')"
      ]
     },
     "execution_count": 357,
     "metadata": {},
     "output_type": "execute_result"
    }
   ],
   "source": [
    "df.loc[(df['location'] == 'cape_town'), 'date'].min()"
   ]
  },
  {
   "cell_type": "code",
   "execution_count": 358,
   "metadata": {},
   "outputs": [
    {
     "data": {
      "text/plain": [
       "Timestamp('2021-01-02 00:00:00')"
      ]
     },
     "execution_count": 358,
     "metadata": {},
     "output_type": "execute_result"
    }
   ],
   "source": [
    "df.loc[(df['location'] == 'male'), 'date'].min()"
   ]
  },
  {
   "cell_type": "code",
   "execution_count": 359,
   "metadata": {},
   "outputs": [
    {
     "data": {
      "image/png": "[encoded data removed]",
      "text/plain": [
       "<Figure size 1000x600 with 1 Axes>"
      ]
     },
     "metadata": {},
     "output_type": "display_data"
    }
   ],
   "source": [
    "fig, ax = plt.subplots(figsize=(10,6))\n",
    "ax.scatter(df['tavg'], df['location'])\n",
    "ax.set_xlabel('tavg')\n",
    "ax.set_ylabel('Location')\n",
    "plt.show()"
   ]
  },
  {
   "cell_type": "code",
   "execution_count": null,
   "metadata": {},
   "outputs": [],
   "source": []
  }
 ],
 "metadata": {
  "kernelspec": {
   "display_name": "Python 3",
   "language": "python",
   "name": "python3"
  },
  "language_info": {
   "codemirror_mode": {
    "name": "ipython",
    "version": 3
   },
   "file_extension": ".py",
   "mimetype": "text/x-python",
   "name": "python",
   "nbconvert_exporter": "python",
   "pygments_lexer": "ipython3",
   "version": "3.9.6"
  },
  "orig_nbformat": 4
 },
 "nbformat": 4,
 "nbformat_minor": 2
}
